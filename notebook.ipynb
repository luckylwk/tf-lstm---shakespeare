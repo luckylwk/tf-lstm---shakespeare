{
 "cells": [
  {
   "cell_type": "markdown",
   "metadata": {
    "collapsed": true
   },
   "source": [
    "Some functions to load in the dataset and dictionary."
   ]
  },
  {
   "cell_type": "code",
   "execution_count": 1,
   "metadata": {
    "collapsed": true
   },
   "outputs": [],
   "source": [
    "from functions import *"
   ]
  },
  {
   "cell_type": "code",
   "execution_count": 2,
   "metadata": {
    "collapsed": false
   },
   "outputs": [
    {
     "name": "stdout",
     "output_type": "stream",
     "text": [
      "Loading processed corpus...\n",
      "The corpus contains 136177 sentences\n"
     ]
    }
   ],
   "source": [
    "corpus = process_data_shakespeare()"
   ]
  },
  {
   "cell_type": "code",
   "execution_count": 3,
   "metadata": {
    "collapsed": false
   },
   "outputs": [
    {
     "name": "stdout",
     "output_type": "stream",
     "text": [
      "Loading dictionary for a vocabulary of 6000 from file...\n"
     ]
    }
   ],
   "source": [
    "VOCABULARY_SIZE=6000\n",
    "\n",
    "dictionary, reverse_dictionary = create_vocabulary_shakespeare(vocabulary_size=VOCABULARY_SIZE)"
   ]
  },
  {
   "cell_type": "code",
   "execution_count": 4,
   "metadata": {
    "collapsed": false
   },
   "outputs": [
    {
     "name": "stdout",
     "output_type": "stream",
     "text": [
      "Loading existing datafile...\n"
     ]
    }
   ],
   "source": [
    "data = create_dataset_shakespeare(corpus=corpus, dictionary=dictionary, vocabulary_size=VOCABULARY_SIZE)\n",
    "ydata = create_shifted_dataset(data=data)"
   ]
  },
  {
   "cell_type": "markdown",
   "metadata": {},
   "source": [
    "**Training a model**"
   ]
  },
  {
   "cell_type": "code",
   "execution_count": 5,
   "metadata": {
    "collapsed": false
   },
   "outputs": [],
   "source": [
    "from model import Model"
   ]
  },
  {
   "cell_type": "code",
   "execution_count": 6,
   "metadata": {
    "collapsed": false
   },
   "outputs": [
    {
     "name": "stdout",
     "output_type": "stream",
     "text": [
      " --- Created the models recurrent cells\n",
      " --- Created the models training operations.\n",
      " --- Initialised the models session and variables.\n",
      "Model loaded from checkpoints-6000-128/model-dump.ckpt-9\n",
      "\n",
      "Model created and setup! Ready to go!\n",
      "\n"
     ]
    }
   ],
   "source": [
    "model = Model(\n",
    "    VOCAB_SIZE=len(dictionary),\n",
    "    isTraining=True, isSampling=False,\n",
    "#     # Default settings: \n",
    "#     BATCH_SIZE=25, \n",
    "#     SEQUENCE_LENGTH=50,\n",
    "#     LAYER_TYPE='lstm', \n",
    "#     LAYER_SIZE=128, \n",
    "#     NUM_LAYERS=2\n",
    ")\n",
    "model.create(directory='checkpoints-' + str(VOCABULARY_SIZE) + '-' + str(128))"
   ]
  },
  {
   "cell_type": "code",
   "execution_count": 7,
   "metadata": {
    "collapsed": false
   },
   "outputs": [
    {
     "name": "stdout",
     "output_type": "stream",
     "text": [
      "Starting Epoch 10 over    883 batches\n",
      "   --- Batch    176 completed\n",
      "   --- Batch    352 completed\n",
      "   --- Batch    528 completed\n",
      "   --- Batch    704 completed\n",
      "   --- Batch    880 completed\n",
      "   >>> Epoch 10 mean batch loss:   4.61\n",
      "Starting Epoch 11 over    883 batches\n",
      "   --- Batch    176 completed\n",
      "   --- Batch    352 completed\n",
      "   --- Batch    528 completed\n",
      "   --- Batch    704 completed\n",
      "   --- Batch    880 completed\n",
      "   >>> Epoch 11 mean batch loss:   4.52\n",
      "\n",
      "DONE TRAINING!\n",
      "CPU times: user 1h 49s, sys: 5min 8s, total: 1h 5min 58s\n",
      "Wall time: 24min 8s\n"
     ]
    }
   ],
   "source": [
    "%time model.train(\\\n",
    "    data, ydata,\\\n",
    "    NUM_EPOCHS=2, start_epoch=9, \n",
    "    directory='checkpoints-' + str(VOCABULARY_SIZE) + '-' + str(128))"
   ]
  },
  {
   "cell_type": "markdown",
   "metadata": {},
   "source": [
    "**Sampling text**"
   ]
  },
  {
   "cell_type": "code",
   "execution_count": 6,
   "metadata": {
    "collapsed": false
   },
   "outputs": [
    {
     "name": "stdout",
     "output_type": "stream",
     "text": [
      " --- Created the models recurrent cells\n",
      " --- Created the models training operations.\n",
      " --- Initialised the models session and variables.\n",
      "Model loaded from checkpoints-6000-128/model-dump.ckpt-10\n",
      "\n",
      "Model created and setup! Ready to go!\n",
      "\n"
     ]
    }
   ],
   "source": [
    "model = Model(VOCAB_SIZE=len(dictionary), isTraining=False, isSampling=True)\n",
    "model.create(directory='checkpoints-' + str(VOCABULARY_SIZE) + '-' + str(128))"
   ]
  },
  {
   "cell_type": "code",
   "execution_count": 10,
   "metadata": {
    "collapsed": false
   },
   "outputs": [
    {
     "name": "stdout",
     "output_type": "stream",
     "text": [
      "first day sent <UNK> they i say i will ask. the action for <UNK>. you i <UNK> are on her <UNK>. a humour from part. escalus. <UNK>. imogen of my side. my glories mine mad villany and tell you banquet. mistress if i have heard him should changed we served than <UNK> <UNK> me house for souls once. behold judgment well if you dead died me what dost i will. <UNK> fearful a double till my words and i will thy state <UNK>. can in blanch ill possess a thing in my strength not thus rarely to theres rescue him call her. threw thy <UNK> <UNK>. to be ready. above hide music are recovered by there tell me and shade him to fell. first yet return if the sooner throw both. heaven to her malicious good wife turn love we greatness before the <UNK>. hell lie. but master for good friend alas these town. dromio of hand me throw. and. of drink right wander to be with his husband. first drink thirty soldier in born the war. thy <UNK> of sum. than fell that she is blessd that joy me. to that my use of the sides alive. this score dead the chaff in made our duty when i. duke now too business. wit <UNK> thou art behold antony.. hereafter to contrary well <UNK>. even that should by <UNK> it be your enemies thin live. of your part\n"
     ]
    }
   ],
   "source": [
    "model.sample(dictionary=dictionary, reverse_dictionary=reverse_dictionary, seed=['first', 'day'])"
   ]
  },
  {
   "cell_type": "code",
   "execution_count": null,
   "metadata": {
    "collapsed": true
   },
   "outputs": [],
   "source": []
  }
 ],
 "metadata": {
  "kernelspec": {
   "display_name": "Python 2",
   "language": "python",
   "name": "python2"
  },
  "language_info": {
   "codemirror_mode": {
    "name": "ipython",
    "version": 2
   },
   "file_extension": ".py",
   "mimetype": "text/x-python",
   "name": "python",
   "nbconvert_exporter": "python",
   "pygments_lexer": "ipython2",
   "version": "2.7.10"
  }
 },
 "nbformat": 4,
 "nbformat_minor": 0
}
